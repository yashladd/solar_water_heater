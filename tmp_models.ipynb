{
 "cells": [
  {
   "cell_type": "code",
   "execution_count": 1,
   "metadata": {},
   "outputs": [],
   "source": [
    "from models import Environment, SolarCollector"
   ]
  },
  {
   "cell_type": "code",
   "execution_count": 2,
   "metadata": {},
   "outputs": [],
   "source": [
    "s = SolarCollector(90)"
   ]
  },
  {
   "cell_type": "code",
   "execution_count": 3,
   "metadata": {},
   "outputs": [],
   "source": [
    "data = s.total_irradiance"
   ]
  },
  {
   "cell_type": "code",
   "execution_count": 4,
   "metadata": {},
   "outputs": [
    {
     "data": {
      "text/html": [
       "<div>\n",
       "<style scoped>\n",
       "    .dataframe tbody tr th:only-of-type {\n",
       "        vertical-align: middle;\n",
       "    }\n",
       "\n",
       "    .dataframe tbody tr th {\n",
       "        vertical-align: top;\n",
       "    }\n",
       "\n",
       "    .dataframe thead th {\n",
       "        text-align: right;\n",
       "    }\n",
       "</style>\n",
       "<table border=\"1\" class=\"dataframe\">\n",
       "  <thead>\n",
       "    <tr style=\"text-align: right;\">\n",
       "      <th></th>\n",
       "      <th>poa_global</th>\n",
       "      <th>solar_elevation</th>\n",
       "      <th>temp_air</th>\n",
       "      <th>wind_speed</th>\n",
       "      <th>Int</th>\n",
       "    </tr>\n",
       "    <tr>\n",
       "      <th>time</th>\n",
       "      <th></th>\n",
       "      <th></th>\n",
       "      <th></th>\n",
       "      <th></th>\n",
       "      <th></th>\n",
       "    </tr>\n",
       "  </thead>\n",
       "  <tbody>\n",
       "    <tr>\n",
       "      <th>2005-01-01 05:17:00+05:30</th>\n",
       "      <td>0.00</td>\n",
       "      <td>0.00</td>\n",
       "      <td>18.61</td>\n",
       "      <td>1.71</td>\n",
       "      <td>0</td>\n",
       "    </tr>\n",
       "    <tr>\n",
       "      <th>2005-01-01 06:17:00+05:30</th>\n",
       "      <td>0.00</td>\n",
       "      <td>0.00</td>\n",
       "      <td>19.45</td>\n",
       "      <td>1.71</td>\n",
       "      <td>0</td>\n",
       "    </tr>\n",
       "    <tr>\n",
       "      <th>2005-01-01 07:17:00+05:30</th>\n",
       "      <td>0.00</td>\n",
       "      <td>1.33</td>\n",
       "      <td>20.28</td>\n",
       "      <td>1.71</td>\n",
       "      <td>1</td>\n",
       "    </tr>\n",
       "    <tr>\n",
       "      <th>2005-01-01 08:17:00+05:30</th>\n",
       "      <td>159.00</td>\n",
       "      <td>13.93</td>\n",
       "      <td>21.12</td>\n",
       "      <td>1.71</td>\n",
       "      <td>0</td>\n",
       "    </tr>\n",
       "    <tr>\n",
       "      <th>2005-01-01 09:17:00+05:30</th>\n",
       "      <td>375.01</td>\n",
       "      <td>25.69</td>\n",
       "      <td>22.26</td>\n",
       "      <td>1.58</td>\n",
       "      <td>0</td>\n",
       "    </tr>\n",
       "    <tr>\n",
       "      <th>...</th>\n",
       "      <td>...</td>\n",
       "      <td>...</td>\n",
       "      <td>...</td>\n",
       "      <td>...</td>\n",
       "      <td>...</td>\n",
       "    </tr>\n",
       "    <tr>\n",
       "      <th>2007-01-01 00:17:00+05:30</th>\n",
       "      <td>0.00</td>\n",
       "      <td>0.00</td>\n",
       "      <td>19.29</td>\n",
       "      <td>2.57</td>\n",
       "      <td>0</td>\n",
       "    </tr>\n",
       "    <tr>\n",
       "      <th>2007-01-01 01:17:00+05:30</th>\n",
       "      <td>0.00</td>\n",
       "      <td>0.00</td>\n",
       "      <td>18.58</td>\n",
       "      <td>2.50</td>\n",
       "      <td>0</td>\n",
       "    </tr>\n",
       "    <tr>\n",
       "      <th>2007-01-01 02:17:00+05:30</th>\n",
       "      <td>0.00</td>\n",
       "      <td>0.00</td>\n",
       "      <td>17.86</td>\n",
       "      <td>2.43</td>\n",
       "      <td>0</td>\n",
       "    </tr>\n",
       "    <tr>\n",
       "      <th>2007-01-01 03:17:00+05:30</th>\n",
       "      <td>0.00</td>\n",
       "      <td>0.00</td>\n",
       "      <td>17.86</td>\n",
       "      <td>2.43</td>\n",
       "      <td>0</td>\n",
       "    </tr>\n",
       "    <tr>\n",
       "      <th>2007-01-01 04:17:00+05:30</th>\n",
       "      <td>0.00</td>\n",
       "      <td>0.00</td>\n",
       "      <td>17.86</td>\n",
       "      <td>2.43</td>\n",
       "      <td>0</td>\n",
       "    </tr>\n",
       "  </tbody>\n",
       "</table>\n",
       "<p>17520 rows × 5 columns</p>\n",
       "</div>"
      ],
      "text/plain": [
       "                           poa_global  solar_elevation  temp_air  wind_speed  \\\n",
       "time                                                                           \n",
       "2005-01-01 05:17:00+05:30        0.00             0.00     18.61        1.71   \n",
       "2005-01-01 06:17:00+05:30        0.00             0.00     19.45        1.71   \n",
       "2005-01-01 07:17:00+05:30        0.00             1.33     20.28        1.71   \n",
       "2005-01-01 08:17:00+05:30      159.00            13.93     21.12        1.71   \n",
       "2005-01-01 09:17:00+05:30      375.01            25.69     22.26        1.58   \n",
       "...                               ...              ...       ...         ...   \n",
       "2007-01-01 00:17:00+05:30        0.00             0.00     19.29        2.57   \n",
       "2007-01-01 01:17:00+05:30        0.00             0.00     18.58        2.50   \n",
       "2007-01-01 02:17:00+05:30        0.00             0.00     17.86        2.43   \n",
       "2007-01-01 03:17:00+05:30        0.00             0.00     17.86        2.43   \n",
       "2007-01-01 04:17:00+05:30        0.00             0.00     17.86        2.43   \n",
       "\n",
       "                           Int  \n",
       "time                            \n",
       "2005-01-01 05:17:00+05:30    0  \n",
       "2005-01-01 06:17:00+05:30    0  \n",
       "2005-01-01 07:17:00+05:30    1  \n",
       "2005-01-01 08:17:00+05:30    0  \n",
       "2005-01-01 09:17:00+05:30    0  \n",
       "...                        ...  \n",
       "2007-01-01 00:17:00+05:30    0  \n",
       "2007-01-01 01:17:00+05:30    0  \n",
       "2007-01-01 02:17:00+05:30    0  \n",
       "2007-01-01 03:17:00+05:30    0  \n",
       "2007-01-01 04:17:00+05:30    0  \n",
       "\n",
       "[17520 rows x 5 columns]"
      ]
     },
     "execution_count": 4,
     "metadata": {},
     "output_type": "execute_result"
    }
   ],
   "source": [
    "data"
   ]
  },
  {
   "cell_type": "code",
   "execution_count": 5,
   "metadata": {},
   "outputs": [],
   "source": [
    "import json\n",
    "\n",
    "with open('./load_profile.json') as f:\n",
    "    load = json.load(f)\n"
   ]
  },
  {
   "cell_type": "code",
   "execution_count": 6,
   "metadata": {},
   "outputs": [
    {
     "data": {
      "text/plain": [
       "{'temperature': 60,\n",
       " 'load_profile': [{'start': '08:00', 'end': '09:00'},\n",
       "  {'start': '18:00', 'end': '21:00'}]}"
      ]
     },
     "execution_count": 6,
     "metadata": {},
     "output_type": "execute_result"
    }
   ],
   "source": [
    "load"
   ]
  },
  {
   "cell_type": "code",
   "execution_count": null,
   "metadata": {},
   "outputs": [],
   "source": [
    "for period in load['load_profile']:\n",
    "    start, end = period['start'], period['end']\n",
    "    mask = (ddat.index.time >= pd.to_datetime(start).time()) & (ddat.index.time <= pd.to_datetime(end).time())\n",
    "    print(ddat[mask])"
   ]
  }
 ],
 "metadata": {
  "kernelspec": {
   "display_name": "heat",
   "language": "python",
   "name": "python3"
  },
  "language_info": {
   "codemirror_mode": {
    "name": "ipython",
    "version": 3
   },
   "file_extension": ".py",
   "mimetype": "text/x-python",
   "name": "python",
   "nbconvert_exporter": "python",
   "pygments_lexer": "ipython3",
   "version": "3.10.13"
  }
 },
 "nbformat": 4,
 "nbformat_minor": 2
}
